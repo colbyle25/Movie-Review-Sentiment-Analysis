{
 "cells": [
  {
   "cell_type": "markdown",
   "metadata": {},
   "source": [
    "# Scraping IMDB User Reviews\n",
    "- To answer how Americans felt about Barbie vs. Oppenhiemer, we decided the first step was to scrape and collect user reviews from the popular movie rating website IMDB.\n",
    "\n",
    "### In this build:\n",
    "- Requirements:\n",
    "    - Selenium `pip install selenium`\n",
    "    - Pandas `pip install pandas`\n",
    "- Links to User Reviews\n",
    "    - [Oppenhiemer](https://www.imdb.com/title/tt15398776/reviews)\n",
    "    - [Barbie](https://www.imdb.com/title/tt1517268/reviews)\n",
    "    "
   ]
  },
  {
   "cell_type": "markdown",
   "metadata": {},
   "source": [
    "# "
   ]
  },
  {
   "cell_type": "code",
   "execution_count": null,
   "metadata": {},
   "outputs": [],
   "source": [
    "from selenium import webdriver\n",
    "from selenium.webdriver.common.by import By\n",
    "import pandas as pd\n",
    "\n",
    "def scrape_reviews(url):\n",
    "    # Setup WebDriver (Ensure you have the correct path to your WebDriver)\n",
    "    driver = webdriver.Chrome('<Path to your ChromeDriver>')\n",
    "    driver.get(url)\n",
    "\n",
    "    # Initialize lists to store review data\n",
    "    titles = []\n",
    "    contents = []\n",
    "    ratings = []\n",
    "    dates = []\n",
    "    user_names = []\n",
    "\n",
    "    # Wait for the page to load\n",
    "    driver.implicitly_wait(5)\n",
    "\n",
    "    # Find and iterate over each review\n",
    "    reviews = driver.find_elements(By.CLASS_NAME, 'review-container')\n",
    "    for review in reviews:\n",
    "        try:\n",
    "            title = review.find_element(By.CLASS_NAME, 'title').text\n",
    "            content = review.find_element(By.CLASS_NAME, 'text').text  # Might need adjustment based on actual class name\n",
    "            rating = review.find_element(By.CLASS_NAME, 'rating-other-user-rating').text\n",
    "            date = review.find_element(By.CLASS_NAME, 'review-date').text\n",
    "            user_name = review.find_element(By.CLASS_NAME, 'display-name-link').text\n",
    "\n",
    "            # Append each piece of information to its respective list\n",
    "            titles.append(title)\n",
    "            contents.append(content)\n",
    "            ratings.append(rating)\n",
    "            dates.append(date)\n",
    "            user_names.append(user_name)\n",
    "        except Exception as e:\n",
    "            print(f\"Error processing review: {e}\")\n",
    "\n",
    "    # Close the WebDriver\n",
    "    driver.quit()\n",
    "\n",
    "    # Create a DataFrame from the scraped data\n",
    "    reviews_df = pd.DataFrame({\n",
    "        'Title': titles,\n",
    "        'Content': contents,\n",
    "        'Rating': ratings,\n",
    "        'Date': dates,\n",
    "        'User Name': user_names\n",
    "    })\n",
    "\n",
    "    return reviews_df\n",
    "\n",
    "# URLs for \"Barbie\" and \"Oppenheimer\" reviews\n",
    "barbie_reviews_url = 'https://www.imdb.com/title/tt15398776/reviews'\n",
    "oppenheimer_reviews_url = 'https://www.imdb.com/title/tt1517268/reviews'\n",
    "\n",
    "# Scrape reviews for each movie and save to CSV\n",
    "oppenheimer_reviews = scrape_reviews(barbie_reviews_url)\n",
    "barbie_reviews = scrape_reviews(oppenheimer_reviews_url)\n",
    "\n",
    "# Example on saving to CSV (adjust paths as needed)\n",
    "barbie_reviews.to_csv('/path/to/save/barbie_reviews.csv', index=False)\n",
    "oppenheimer_reviews.to_csv('/path/to/save/oppenheimer_reviews.csv', index=False)\n"
   ]
  }
 ],
 "metadata": {
  "language_info": {
   "name": "python"
  }
 },
 "nbformat": 4,
 "nbformat_minor": 2
}
