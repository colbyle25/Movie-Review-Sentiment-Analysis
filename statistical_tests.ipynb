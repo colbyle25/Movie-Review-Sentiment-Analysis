{
 "cells": [
  {
   "cell_type": "markdown",
   "metadata": {},
   "source": [
    "# Statistical Analysis\n",
    "![analysis_plan](analysis_plan.png)\n"
   ]
  },
  {
   "cell_type": "code",
   "execution_count": 1,
   "metadata": {},
   "outputs": [],
   "source": [
    "#importing libraries\n",
    "import pandas as pd\n",
    "import numpy as np\n",
    "import matplotlib.pyplot as plt"
   ]
  },
  {
   "cell_type": "markdown",
   "metadata": {},
   "source": [
    "## Data PreProcessing was done in the previous notebook.\n",
    "See [`queryFromRequests.ipynb`](queryFromRequests.ipynb) for the data preprocessing."
   ]
  },
  {
   "cell_type": "markdown",
   "metadata": {},
   "source": [
    "## Methodology\n",
    "\n",
    "###  Step 1: Sentiment Analysis\n",
    "- See [`sentiment_analysis.ipynb`](sentiment_analysis.ipynb) for the use of the transformer model to calculate sentiment and EDA\n",
    "- Results in datasets:\n",
    "    - Barbie: [`barbie_reviews_sentiment.csv`](barbie_reviews_sentiment.csv)\n",
    "    - Oppenheimer: [`oppenheimer_reviews_sentiment.csv`](oppenheimer_reviews_sentiment.csv)\n",
    "\n",
    "### Step 2: Two Sample Proportion Test"
   ]
  },
  {
   "cell_type": "markdown",
   "metadata": {},
   "source": [
    "**Part A: Formulate  Hypotheses**\n",
    "- *Null Hypothesis (H0):* The proportion of audience approval for \"Barbie\" ($p_{Barbie}$) is equal to or less than the proportion of audience approval for \"Oppenheimer\" ($p_{Oppenheimer}$).\n",
    "  \n",
    "  $H0: p_{Barbie} \\leq p_{Oppenheimer}$\n",
    "\n",
    "- *Alternative Hypothesis (Ha):* The proportion of audience approval for \"Barbie\" is greater than the proportion for \"Oppenheimer.\"\n",
    "  \n",
    "  $Ha: p_{Barbie} > p_{Oppenheimer}$\n",
    "\n",
    "**Part B: Collect Data**\n",
    "\n",
    "Extract the relevant data from the datasets provided. This involves aggregating the number of positive reviews and the total number of reviews for each movie.\n",
    "\n",
    "1. Calculate the proportion of positive reviews for \"Barbie.\"\n",
    "2. Calculate the proportion of positive reviews for \"Oppenheimer.\""
   ]
  },
  {
   "cell_type": "code",
   "execution_count": 9,
   "metadata": {},
   "outputs": [
    {
     "name": "stdout",
     "output_type": "stream",
     "text": [
      "Proportion of positive reviews for Barbie:  0.7122153209109731\n",
      "Proportion of positive reviews for Oppenheimer:  0.7323943661971831\n"
     ]
    }
   ],
   "source": [
    "barbie_df = pd.read_csv('barbie_reviews_sentiment.csv')\n",
    "oppenheimer_df = pd.read_csv('oppenheimer_reviews_sentiment.csv')\n",
    "\n",
    "# proportion of positive reviews for \"Barbie\"\n",
    "barbie_positive = barbie_df[barbie_df['sentiment'] == 'POSITIVE']\n",
    "barbie_positive_proportion = len(barbie_positive)/len(barbie_df)\n",
    "print('Proportion of positive reviews for Barbie: ', barbie_positive_proportion)\n",
    "\n",
    "# proportion of positive reviews for \"Oppenheimer\"\n",
    "oppenheimer_positive = oppenheimer_df[oppenheimer_df['sentiment'] == 'POSITIVE']\n",
    "oppenheimer_positive_proportion = len(oppenheimer_positive)/len(oppenheimer_df)\n",
    "print('Proportion of positive reviews for Oppenheimer: ', oppenheimer_positive_proportion)"
   ]
  },
  {
   "cell_type": "markdown",
   "metadata": {},
   "source": [
    "**Part C: Perform the Two-Sample Z-Test**\n",
    "\n",
    "To conduct the two-sample z-test, we will use the proportions calculated in Step 3 to:\n",
    "\n",
    "1. Compute the test statistic based on the difference in proportions.\n",
    "2. Determine the standard error of the difference in proportions.\n",
    "3. Calculate the z-score.\n",
    "4. Use the z-score to find the p-value from the z-distribution.\n",
    "\n",
    "The formula for the test statistic (z) is given by:\n",
    "\n",
    "$$z = \\frac{(\\hat{p}_{Barbie} - \\hat{p}_{Oppenheimer})}{\\sqrt{P(1-P)\\left(\\frac{1}{n_{Barbie}} + \\frac{1}{n_{Oppenheimer}}\\right)}}$$\n",
    "\n",
    "where:\n",
    "- $\\hat{p}_{Barbie}$ and $\\hat{p}_{Oppenheimer}$ are the sample proportions of positive reviews for \"Barbie\" and \"Oppenheimer,\" respectively.\n",
    "- $P$ is the pooled proportion of positive reviews from both movies, calculated as $\\frac{x_{Barbie} + x_{Oppenheimer}}{n_{Barbie} + n_{Oppenheimer}}$, where $x$ represents the number of positive reviews and $n$ the total number of reviews.\n",
    "- $n_{Barbie}$ and $n_{Oppenheimer}$ are the total number of reviews for each movie.\n"
   ]
  },
  {
   "cell_type": "code",
   "execution_count": 10,
   "metadata": {},
   "outputs": [
    {
     "name": "stdout",
     "output_type": "stream",
     "text": [
      "Z-statistic:  -0.705238079142905\n"
     ]
    }
   ],
   "source": [
    "z_statistic = (barbie_positive_proportion - oppenheimer_positive_proportion) / np.sqrt(\n",
    "    (barbie_positive_proportion*(1-barbie_positive_proportion)/len(barbie_df)) + (oppenheimer_positive_proportion*(1-oppenheimer_positive_proportion)/len(oppenheimer_df))\n",
    "    )\n",
    "print('Z-statistic: ', z_statistic)"
   ]
  },
  {
   "cell_type": "markdown",
   "metadata": {},
   "source": [
    "**Part D: Conclusion**\n",
    "\n",
    "Based on the p-value obtained from the z-score:\n",
    "\n",
    "- If the p-value is less than the significance level (typically 0.05), we reject the null hypothesis, suggesting that the proportion of audience approval for \"Barbie\" is significantly greater than that for \"Oppenheimer.\"\n",
    "- If the p-value is greater than the significance level, we fail to reject the null hypothesis, indicating no significant difference in the audience approval rates as per our initial comparison criteria."
   ]
  },
  {
   "cell_type": "code",
   "execution_count": 11,
   "metadata": {},
   "outputs": [
    {
     "name": "stdout",
     "output_type": "stream",
     "text": [
      "P-value:  0.7597\n",
      "Fail to reject the null hypothesis indicating that the proportion of audience approval for  \"Barbie\" is not significantly greater from the proportion of audience approval for \"Oppenheimer\"\n"
     ]
    }
   ],
   "source": [
    "# p-value\n",
    "from scipy.stats import norm\n",
    "p_value = 1 - norm.cdf(z_statistic)\n",
    "print('P-value: ', round(p_value, 4))\n",
    "if p_value < 0.05:\n",
    "    print('We reject the null hypothesis suggesting that the proportion of audience approval for  \"Barbie\" is significantly greater from the proportion of audience approval for \"Oppenheimer\"')\n",
    "else:\n",
    "    print('Fail to reject the null hypothesis indicating that the proportion of audience approval for  \"Barbie\" is not significantly greater from the proportion of audience approval for \"Oppenheimer\"')"
   ]
  },
  {
   "cell_type": "markdown",
   "metadata": {},
   "source": [
    "### Step 3: Permutation Analysis\n",
    "**Part A: Preprocessing**\n",
    "- Combine [`barbie_reviews_sentiment.csv`](barbie_reviews_sentiment.csv) and [`oppenheimer_reviews_sentiment.csv`](oppenheimer_reviews_sentiment.csv) with labels to which movie the review belongs to"
   ]
  },
  {
   "cell_type": "code",
   "execution_count": 12,
   "metadata": {},
   "outputs": [],
   "source": [
    "# label all rows in the barbie dataframe with \"barbie\" in column `movie_name`\n",
    "barbie_df['movie_name'] = 'barbie'\n",
    "# label all rows in the oppenheimer dataframe with \"oppenheimer\" in column `movie_name`\n",
    "oppenheimer_df['movie_name'] = 'oppenheimer'\n",
    "\n",
    "# combine the two dataframes\n",
    "combined_df = pd.concat([barbie_df, oppenheimer_df])"
   ]
  },
  {
   "cell_type": "markdown",
   "metadata": {},
   "source": [
    "**Part B: Random Permutations**\n",
    "- For each of the 1000 iterations, randomly assign reviews to movie\n",
    "- Calculate z-score for the permutation\n",
    "- calculate p-valule\n",
    "- Add to dataframe to create null distribution"
   ]
  },
  {
   "cell_type": "code",
   "execution_count": 15,
   "metadata": {},
   "outputs": [
    {
     "data": {
      "text/html": [
       "<div>\n",
       "<style scoped>\n",
       "    .dataframe tbody tr th:only-of-type {\n",
       "        vertical-align: middle;\n",
       "    }\n",
       "\n",
       "    .dataframe tbody tr th {\n",
       "        vertical-align: top;\n",
       "    }\n",
       "\n",
       "    .dataframe thead th {\n",
       "        text-align: right;\n",
       "    }\n",
       "</style>\n",
       "<table border=\"1\" class=\"dataframe\">\n",
       "  <thead>\n",
       "    <tr style=\"text-align: right;\">\n",
       "      <th></th>\n",
       "      <th>z_statistic</th>\n",
       "      <th>p_value</th>\n",
       "    </tr>\n",
       "  </thead>\n",
       "  <tbody>\n",
       "    <tr>\n",
       "      <th>0</th>\n",
       "      <td>1.580861</td>\n",
       "      <td>0.056955</td>\n",
       "    </tr>\n",
       "    <tr>\n",
       "      <th>1</th>\n",
       "      <td>-0.277198</td>\n",
       "      <td>0.609186</td>\n",
       "    </tr>\n",
       "    <tr>\n",
       "      <th>2</th>\n",
       "      <td>-1.276358</td>\n",
       "      <td>0.899085</td>\n",
       "    </tr>\n",
       "    <tr>\n",
       "      <th>3</th>\n",
       "      <td>0.293581</td>\n",
       "      <td>0.384539</td>\n",
       "    </tr>\n",
       "    <tr>\n",
       "      <th>4</th>\n",
       "      <td>0.436345</td>\n",
       "      <td>0.331293</td>\n",
       "    </tr>\n",
       "    <tr>\n",
       "      <th>...</th>\n",
       "      <td>...</td>\n",
       "      <td>...</td>\n",
       "    </tr>\n",
       "    <tr>\n",
       "      <th>995</th>\n",
       "      <td>-0.847957</td>\n",
       "      <td>0.801769</td>\n",
       "    </tr>\n",
       "    <tr>\n",
       "      <th>996</th>\n",
       "      <td>0.722020</td>\n",
       "      <td>0.235141</td>\n",
       "    </tr>\n",
       "    <tr>\n",
       "      <th>997</th>\n",
       "      <td>-1.419268</td>\n",
       "      <td>0.922090</td>\n",
       "    </tr>\n",
       "    <tr>\n",
       "      <th>998</th>\n",
       "      <td>0.436345</td>\n",
       "      <td>0.331293</td>\n",
       "    </tr>\n",
       "    <tr>\n",
       "      <th>999</th>\n",
       "      <td>-0.847957</td>\n",
       "      <td>0.801769</td>\n",
       "    </tr>\n",
       "  </tbody>\n",
       "</table>\n",
       "<p>1000 rows × 2 columns</p>\n",
       "</div>"
      ],
      "text/plain": [
       "     z_statistic   p_value\n",
       "0       1.580861  0.056955\n",
       "1      -0.277198  0.609186\n",
       "2      -1.276358  0.899085\n",
       "3       0.293581  0.384539\n",
       "4       0.436345  0.331293\n",
       "..           ...       ...\n",
       "995    -0.847957  0.801769\n",
       "996     0.722020  0.235141\n",
       "997    -1.419268  0.922090\n",
       "998     0.436345  0.331293\n",
       "999    -0.847957  0.801769\n",
       "\n",
       "[1000 rows x 2 columns]"
      ]
     },
     "execution_count": 15,
     "metadata": {},
     "output_type": "execute_result"
    }
   ],
   "source": [
    "\n",
    "# Preallocate space for z-statistics and p-values\n",
    "results = np.zeros((1000, 2))\n",
    "\n",
    "for i in range(1000):\n",
    "    # Randomly permute the 'movie_name' column\n",
    "    shuffled_movie_names = np.random.permutation(combined_df['movie_name'].values)\n",
    "    \n",
    "    # Calculate proportions of positive reviews for each movie after shuffling\n",
    "    for movie in ['barbie', 'oppenheimer']:\n",
    "        movie_mask = shuffled_movie_names == movie\n",
    "        sentiment_mask = combined_df['sentiment'].values == 'POSITIVE'\n",
    "        \n",
    "        positive_proportion = np.sum(movie_mask & sentiment_mask) / np.sum(movie_mask)\n",
    "        \n",
    "        if movie == 'barbie':\n",
    "            barbie_positive_proportion_new = positive_proportion\n",
    "        else:\n",
    "            oppenheimer_positive_proportion_new = positive_proportion\n",
    "    \n",
    "    # Calculate the z-statistic\n",
    "    z_statistic_new = (barbie_positive_proportion_new - oppenheimer_positive_proportion_new) / np.sqrt(\n",
    "        (barbie_positive_proportion_new * (1 - barbie_positive_proportion_new) / np.sum(shuffled_movie_names == 'barbie')) + \n",
    "        (oppenheimer_positive_proportion_new * (1 - oppenheimer_positive_proportion_new) / np.sum(shuffled_movie_names == 'oppenheimer'))\n",
    "    )\n",
    "    \n",
    "    # Calculate the p-value\n",
    "    p_value_new = 1 - norm.cdf(z_statistic_new)\n",
    "    \n",
    "    # Store the results\n",
    "    results[i, :] = [z_statistic_new, p_value_new]\n",
    "\n",
    "# Convert results to a DataFrame\n",
    "null_distribution_df = pd.DataFrame(results, columns=['z_statistic', 'p_value'])\n",
    "\n",
    "null_distribution_df\n",
    "\n"
   ]
  },
  {
   "cell_type": "code",
   "execution_count": 16,
   "metadata": {},
   "outputs": [
    {
     "data": {
      "text/plain": [
       "<matplotlib.lines.Line2D at 0x12a313a60>"
      ]
     },
     "execution_count": 16,
     "metadata": {},
     "output_type": "execute_result"
    },
    {
     "data": {
      "image/png": "[encoded data removed]",
      "text/plain": [
       "<Figure size 640x480 with 1 Axes>"
      ]
     },
     "metadata": {},
     "output_type": "display_data"
    }
   ],
   "source": [
    "# plot the null distribution\n",
    "plt.hist(null_distribution_df['z_statistic'], bins=20, edgecolor='black')\n",
    "# plot the observed z-statistic\n",
    "plt.axvline(z_statistic, color='red', linestyle='dashed', linewidth=2)"
   ]
  }
 ],
 "metadata": {
  "kernelspec": {
   "display_name": "Python 3",
   "language": "python",
   "name": "python3"
  },
  "language_info": {
   "codemirror_mode": {
    "name": "ipython",
    "version": 3
   },
   "file_extension": ".py",
   "mimetype": "text/x-python",
   "name": "python",
   "nbconvert_exporter": "python",
   "pygments_lexer": "ipython3",
   "version": "3.10.13"
  }
 },
 "nbformat": 4,
 "nbformat_minor": 2
}
