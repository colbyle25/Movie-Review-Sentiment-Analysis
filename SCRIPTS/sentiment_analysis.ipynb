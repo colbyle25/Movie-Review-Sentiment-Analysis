{
 "cells": [
  {
   "attachments": {},
   "cell_type": "markdown",
   "metadata": {},
   "source": [
    "# Sentiment Analysis\n",
    "Here we are preprocessing date from the CSV files, then using HuggingFace transformers and the Distilbert model to perform sentiment analysis on those reviews. Those sentiments and sentiment scores are then appended to the CSV files as DATA/oppenheimer_reviews_sentiment.csv and DATA/barbie_reviews_sentiment.csv."
   ]
  },
  {
   "cell_type": "code",
   "execution_count": null,
   "metadata": {},
   "outputs": [],
   "source": [
    "!pip install transformers\n",
    "!pip install tensorflow"
   ]
  },
  {
   "cell_type": "code",
   "execution_count": 3,
   "metadata": {},
   "outputs": [
    {
     "name": "stderr",
     "output_type": "stream",
     "text": [
      "/usr/local/lib/python3.10/site-packages/huggingface_hub/utils/_runtime.py:184: UserWarning: Pydantic is installed but cannot be imported. Please check your installation. `huggingface_hub` will default to not using Pydantic. Error message: '{e}'\n",
      "  warnings.warn(\n",
      "2024-02-12 16:02:29.502349: I tensorflow/core/platform/cpu_feature_guard.cc:193] This TensorFlow binary is optimized with oneAPI Deep Neural Network Library (oneDNN) to use the following CPU instructions in performance-critical operations:  AVX2 FMA\n",
      "To enable them in other operations, rebuild TensorFlow with the appropriate compiler flags.\n",
      "2024-02-12 16:03:02.923148: I tensorflow/core/platform/cpu_feature_guard.cc:193] This TensorFlow binary is optimized with oneAPI Deep Neural Network Library (oneDNN) to use the following CPU instructions in performance-critical operations:  AVX2 FMA\n",
      "To enable them in other operations, rebuild TensorFlow with the appropriate compiler flags.\n",
      "All PyTorch model weights were used when initializing TFDistilBertForSequenceClassification.\n",
      "\n",
      "All the weights of TFDistilBertForSequenceClassification were initialized from the PyTorch model.\n",
      "If your task is similar to the task the model of the checkpoint was trained on, you can already use TFDistilBertForSequenceClassification for predictions without further training.\n",
      "/var/folders/gy/sq_b71qx3931n7lpgb669l0w0000gq/T/ipykernel_16768/764274475.py:41: ConvergenceWarning: Number of distinct clusters (2) found smaller than n_clusters (3). Possibly due to duplicate points in X.\n",
      "  barbie_kmeans = KMeans(n_clusters=num_clusters, random_state=0).fit(barbie_df[['sentiment_score']])\n"
     ]
    },
    {
     "ename": "AttributeError",
     "evalue": "'DataFrame' object has no attribute 'labels_'",
     "output_type": "error",
     "traceback": [
      "\u001b[0;31m---------------------------------------------------------------------------\u001b[0m",
      "\u001b[0;31mAttributeError\u001b[0m                            Traceback (most recent call last)",
      "Cell \u001b[0;32mIn [3], line 42\u001b[0m\n\u001b[1;32m     39\u001b[0m num_clusters \u001b[38;5;241m=\u001b[39m \u001b[38;5;241m3\u001b[39m\n\u001b[1;32m     41\u001b[0m barbie_kmeans \u001b[38;5;241m=\u001b[39m KMeans(n_clusters\u001b[38;5;241m=\u001b[39mnum_clusters, random_state\u001b[38;5;241m=\u001b[39m\u001b[38;5;241m0\u001b[39m)\u001b[38;5;241m.\u001b[39mfit(barbie_df[[\u001b[38;5;124m'\u001b[39m\u001b[38;5;124msentiment_score\u001b[39m\u001b[38;5;124m'\u001b[39m]])\n\u001b[0;32m---> 42\u001b[0m barbie_df[\u001b[38;5;124m'\u001b[39m\u001b[38;5;124mcluster\u001b[39m\u001b[38;5;124m'\u001b[39m] \u001b[38;5;241m=\u001b[39m \u001b[43mbarbie_df\u001b[49m\u001b[38;5;241;43m.\u001b[39;49m\u001b[43mlabels_\u001b[49m\n\u001b[1;32m     44\u001b[0m oppenheimer_kmeans \u001b[38;5;241m=\u001b[39m KMeans(n_clusters\u001b[38;5;241m=\u001b[39mnum_clusters, random_state\u001b[38;5;241m=\u001b[39m\u001b[38;5;241m0\u001b[39m)\u001b[38;5;241m.\u001b[39mfit(oppenheimer_df[[\u001b[38;5;124m'\u001b[39m\u001b[38;5;124msentiment_score\u001b[39m\u001b[38;5;124m'\u001b[39m]])\n\u001b[1;32m     45\u001b[0m oppenheimer_df[\u001b[38;5;124m'\u001b[39m\u001b[38;5;124mcluster\u001b[39m\u001b[38;5;124m'\u001b[39m] \u001b[38;5;241m=\u001b[39m oppenheimer_kmeans\u001b[38;5;241m.\u001b[39mlabels_\n",
      "File \u001b[0;32m~/Library/Python/3.10/lib/python/site-packages/pandas/core/generic.py:5575\u001b[0m, in \u001b[0;36mNDFrame.__getattr__\u001b[0;34m(self, name)\u001b[0m\n\u001b[1;32m   5568\u001b[0m \u001b[38;5;28;01mif\u001b[39;00m (\n\u001b[1;32m   5569\u001b[0m     name \u001b[38;5;129;01mnot\u001b[39;00m \u001b[38;5;129;01min\u001b[39;00m \u001b[38;5;28mself\u001b[39m\u001b[38;5;241m.\u001b[39m_internal_names_set\n\u001b[1;32m   5570\u001b[0m     \u001b[38;5;129;01mand\u001b[39;00m name \u001b[38;5;129;01mnot\u001b[39;00m \u001b[38;5;129;01min\u001b[39;00m \u001b[38;5;28mself\u001b[39m\u001b[38;5;241m.\u001b[39m_metadata\n\u001b[1;32m   5571\u001b[0m     \u001b[38;5;129;01mand\u001b[39;00m name \u001b[38;5;129;01mnot\u001b[39;00m \u001b[38;5;129;01min\u001b[39;00m \u001b[38;5;28mself\u001b[39m\u001b[38;5;241m.\u001b[39m_accessors\n\u001b[1;32m   5572\u001b[0m     \u001b[38;5;129;01mand\u001b[39;00m \u001b[38;5;28mself\u001b[39m\u001b[38;5;241m.\u001b[39m_info_axis\u001b[38;5;241m.\u001b[39m_can_hold_identifiers_and_holds_name(name)\n\u001b[1;32m   5573\u001b[0m ):\n\u001b[1;32m   5574\u001b[0m     \u001b[38;5;28;01mreturn\u001b[39;00m \u001b[38;5;28mself\u001b[39m[name]\n\u001b[0;32m-> 5575\u001b[0m \u001b[38;5;28;01mreturn\u001b[39;00m \u001b[38;5;28;43mobject\u001b[39;49m\u001b[38;5;241;43m.\u001b[39;49m\u001b[38;5;21;43m__getattribute__\u001b[39;49m\u001b[43m(\u001b[49m\u001b[38;5;28;43mself\u001b[39;49m\u001b[43m,\u001b[49m\u001b[43m \u001b[49m\u001b[43mname\u001b[49m\u001b[43m)\u001b[49m\n",
      "\u001b[0;31mAttributeError\u001b[0m: 'DataFrame' object has no attribute 'labels_'"
     ]
    }
   ],
   "source": [
    "# Import necessary libraries\n",
    "import pandas as pd\n",
    "from sklearn.cluster import KMeans\n",
    "from transformers import pipeline, AutoTokenizer, TFAutoModelForSequenceClassification\n",
    "import matplotlib.pyplot as plt\n",
    "import numpy as np\n",
    "import tensorflow as tf\n",
    "\n",
    "#load data from csv\n",
    "barbie_df = pd.read_csv('../DATA/barbie_reviews.csv')\n",
    "oppenheimer_df = pd.read_csv('../DATA/oppenheimer_reviews.csv')\n",
    "\n",
    "#drop all reviews which don't have any words or more than 300 words (model's word limit is ~333)\n",
    "barbie_df = barbie_df[barbie_df['text'].str.split(',').apply(len) >= 3]\n",
    "barbie_df = barbie_df[barbie_df['text'].str.split().apply(len) <= 300]\n",
    "barbie_df.reset_index(drop=True, inplace=True)\n",
    "oppenheimer_df = oppenheimer_df[oppenheimer_df['text'].str.split(',').apply(len) >= 3]\n",
    "oppenheimer_df = oppenheimer_df[oppenheimer_df['text'].str.split().apply(len) <= 300]\n",
    "oppenheimer_df.reset_index(drop=True, inplace=True)\n",
    "\n",
    "#create the pipeline\n",
    "tokenizer = AutoTokenizer.from_pretrained(\"distilbert-base-uncased\")\n",
    "model = TFAutoModelForSequenceClassification.from_pretrained(\"distilbert-base-uncased-finetuned-sst-2-english\")\n",
    "sentiment_pipeline = pipeline('sentiment-analysis', model=model, tokenizer=tokenizer)\n",
    "\n",
    "#run sentiment analysis, add new feature to the dataframe with sentiment score.\n",
    "#if model is not confident, label as neutral\n",
    "sentiment_results = barbie_df['text'].apply(lambda x: sentiment_pipeline(x)[0])\n",
    "barbie_df['sentiment'] = sentiment_results.apply(lambda x: 'neutral' if x['score'] < 0.7 else x['label'])\n",
    "\n",
    "sentiment_results = oppenheimer_df['text'].apply(lambda x: sentiment_pipeline(x)[0])\n",
    "oppenheimer_df['sentiment'] = sentiment_results.apply(lambda x: 'neutral' if x['score'] < 0.7 else x['label'])\n",
    "\n",
    "#assign -1, 0, 1 to negative, neutral, and positive sentiments for clustering\n",
    "barbie_df['sentiment_score'] = barbie_df['sentiment'].apply(lambda x: 1 if x == 'POSITIVE' else (0 if x == 'NEUTRAL' else -1))\n",
    "oppenheimer_df['sentiment_score'] = oppenheimer_df['sentiment'].apply(lambda x: 1 if x == 'POSITIVE' else (0 if x == 'NEUTRAL' else -1))\n",
    "\n",
    "#build kmeans model, add new feature to dfs with cluster numbers\n",
    "num_clusters = 3\n",
    "\n",
    "barbie_kmeans = KMeans(n_clusters=num_clusters, random_state=0).fit(barbie_df[['sentiment_score']])\n",
    "barbie_df['cluster'] = barbie_df.labels_\n",
    "\n",
    "oppenheimer_kmeans = KMeans(n_clusters=num_clusters, random_state=0).fit(oppenheimer_df[['sentiment_score']])\n",
    "oppenheimer_df['cluster'] = oppenheimer_kmeans.labels_\n",
    "\n",
    "#data vis on barbie\n",
    "plt.figure(figsize=(8, 6))\n",
    "barbie_df['sentiment'].value_counts().plot(kind='bar')\n",
    "plt.title('Barbie Sentiment Distribution')\n",
    "plt.xlabel('Sentiment')\n",
    "plt.ylabel('Count')\n",
    "plt.show()\n",
    "\n",
    "plt.figure(figsize=(8, 6))\n",
    "plt.scatter(barbie_df.index, np.random.rand(len(barbie_df)), c=barbie_df['cluster'])\n",
    "plt.title('Clustering of Barbie Sentiments')\n",
    "plt.xlabel('Review Index')\n",
    "plt.ylabel('Random Noise')\n",
    "plt.show()\n",
    "\n",
    "#data vis on oppenheimer\n",
    "plt.figure(figsize=(8, 6))\n",
    "oppenheimer_df['sentiment'].value_counts().plot(kind='bar')\n",
    "plt.title('Oppenheimer Sentiment Distribution')\n",
    "plt.xlabel('Sentiment')\n",
    "plt.ylabel('Count')\n",
    "plt.show()\n",
    "\n",
    "plt.figure(figsize=(8, 6))\n",
    "plt.scatter(oppenheimer_df.index, np.random.rand(len(oppenheimer_df)), c=oppenheimer_df['cluster'])\n",
    "plt.title('Clustering of Oppenheimer Sentiments')\n",
    "plt.xlabel('Review Index')\n",
    "plt.ylabel('Random Noise')\n",
    "plt.show()"
   ]
  },
  {
   "cell_type": "code",
   "execution_count": 5,
   "metadata": {},
   "outputs": [],
   "source": [
    "oppenheimer_df.to_csv('../DATA/oppenheimer_reviews_sentiment.csv', index=False)\n",
    "barbie_df.to_csv('../DATA/barbie_reviews_sentiment.csv', index=False)\n"
   ]
  },
  {
   "cell_type": "code",
   "execution_count": 18,
   "metadata": {},
   "outputs": [],
   "source": [
    "oppenheimer_df = pd.read_csv('../DATA/oppenheimer_reviews_sentiment.csv')\n",
    "barbie_df = pd.read_csv('../DATA/barbie_reviews_sentiment.csv')"
   ]
  },
  {
   "cell_type": "code",
   "execution_count": 19,
   "metadata": {},
   "outputs": [
    {
     "data": {
      "text/html": [
       "<div>\n",
       "<style scoped>\n",
       "    .dataframe tbody tr th:only-of-type {\n",
       "        vertical-align: middle;\n",
       "    }\n",
       "\n",
       "    .dataframe tbody tr th {\n",
       "        vertical-align: top;\n",
       "    }\n",
       "\n",
       "    .dataframe thead th {\n",
       "        text-align: right;\n",
       "    }\n",
       "</style>\n",
       "<table border=\"1\" class=\"dataframe\">\n",
       "  <thead>\n",
       "    <tr style=\"text-align: right;\">\n",
       "      <th></th>\n",
       "      <th>score</th>\n",
       "      <th>title</th>\n",
       "      <th>date</th>\n",
       "      <th>text</th>\n",
       "      <th>sentiment</th>\n",
       "      <th>sentiment_score</th>\n",
       "    </tr>\n",
       "  </thead>\n",
       "  <tbody>\n",
       "    <tr>\n",
       "      <th>0</th>\n",
       "      <td>9/10</td>\n",
       "      <td>Murphy is exceptional</td>\n",
       "      <td>07 2023</td>\n",
       "      <td>You'll have to have your wits about you and yo...</td>\n",
       "      <td>POSITIVE</td>\n",
       "      <td>1</td>\n",
       "    </tr>\n",
       "    <tr>\n",
       "      <th>1</th>\n",
       "      <td>10/10</td>\n",
       "      <td>A brilliantly layered examination of a man thr...</td>\n",
       "      <td>07 2023</td>\n",
       "      <td>\"Oppenheimer\" is a biographical thriller film ...</td>\n",
       "      <td>POSITIVE</td>\n",
       "      <td>1</td>\n",
       "    </tr>\n",
       "    <tr>\n",
       "      <th>2</th>\n",
       "      <td>8/10</td>\n",
       "      <td>Is it just me ?</td>\n",
       "      <td>07 2023</td>\n",
       "      <td>Is it just me or did anyone else find this mov...</td>\n",
       "      <td>POSITIVE</td>\n",
       "      <td>1</td>\n",
       "    </tr>\n",
       "    <tr>\n",
       "      <th>3</th>\n",
       "      <td>4/10</td>\n",
       "      <td>Disappointing</td>\n",
       "      <td>07 2023</td>\n",
       "      <td>It saddens me that so many people are mistakin...</td>\n",
       "      <td>NEGATIVE</td>\n",
       "      <td>-1</td>\n",
       "    </tr>\n",
       "    <tr>\n",
       "      <th>4</th>\n",
       "      <td>9/10</td>\n",
       "      <td>Exceptional storytelling and Genius Cinametogr...</td>\n",
       "      <td>07 2023</td>\n",
       "      <td>Just came out of the theater and watching Oppe...</td>\n",
       "      <td>POSITIVE</td>\n",
       "      <td>1</td>\n",
       "    </tr>\n",
       "  </tbody>\n",
       "</table>\n",
       "</div>"
      ],
      "text/plain": [
       "   score                                              title     date  \\\n",
       "0   9/10                              Murphy is exceptional  07 2023   \n",
       "1  10/10  A brilliantly layered examination of a man thr...  07 2023   \n",
       "2   8/10                                    Is it just me ?  07 2023   \n",
       "3   4/10                                      Disappointing  07 2023   \n",
       "4   9/10  Exceptional storytelling and Genius Cinametogr...  07 2023   \n",
       "\n",
       "                                                text sentiment  \\\n",
       "0  You'll have to have your wits about you and yo...  POSITIVE   \n",
       "1  \"Oppenheimer\" is a biographical thriller film ...  POSITIVE   \n",
       "2  Is it just me or did anyone else find this mov...  POSITIVE   \n",
       "3  It saddens me that so many people are mistakin...  NEGATIVE   \n",
       "4  Just came out of the theater and watching Oppe...  POSITIVE   \n",
       "\n",
       "   sentiment_score  \n",
       "0                1  \n",
       "1                1  \n",
       "2                1  \n",
       "3               -1  \n",
       "4                1  "
      ]
     },
     "execution_count": 19,
     "metadata": {},
     "output_type": "execute_result"
    }
   ],
   "source": [
    "oppenheimer_df.head()"
   ]
  },
  {
   "cell_type": "code",
   "execution_count": 24,
   "metadata": {},
   "outputs": [
    {
     "name": "stderr",
     "output_type": "stream",
     "text": [
      "/var/folders/gy/sq_b71qx3931n7lpgb669l0w0000gq/T/ipykernel_16768/2011200807.py:9: UserWarning: No data for colormapping provided via 'c'. Parameters 'cmap' will be ignored\n",
      "  plt.scatter(df['text'].apply(len), df['sentiment_score'],  cmap='viridis')\n"
     ]
    },
    {
     "data": {
      "image/png": "[encoded data removed]",
      "text/plain": [
       "<Figure size 640x480 with 1 Axes>"
      ]
     },
     "metadata": {},
     "output_type": "display_data"
    }
   ],
   "source": [
    "import matplotlib.pyplot as plt\n",
    "import pandas as pd\n",
    "import numpy as np\n",
    "\n",
    "def grid_plot(df1, df2):\n",
    "    # concat both dataframes \n",
    "    df = pd.concat([df1, df2])\n",
    "    # plot the legnth of the text to the sentiment_score \n",
    "    plt.scatter(df['text'].apply(len), df['sentiment_score'],  cmap='viridis')\n",
    "    plt.xlabel('Review Length in Number of Characters')\n",
    "    plt.ylabel('Sentiment Score')\n",
    "    plt.title('Text Length vs Sentiment Score')\n",
    "    plt.show()\n",
    "    \n",
    "\n",
    "\n",
    "# Call the function with the fixed DataFrame\n",
    "grid_plot(oppenheimer_df, barbie_df)\n"
   ]
  }
 ],
 "metadata": {
  "kernelspec": {
   "display_name": "base",
   "language": "python",
   "name": "python3"
  },
  "language_info": {
   "codemirror_mode": {
    "name": "ipython",
    "version": 3
   },
   "file_extension": ".py",
   "mimetype": "text/x-python",
   "name": "python",
   "nbconvert_exporter": "python",
   "pygments_lexer": "ipython3",
   "version": "3.11.5 (main, Sep 11 2023, 08:19:27) [Clang 14.0.6 ]"
  },
  "vscode": {
   "interpreter": {
    "hash": "bae868eca559e6fdaaf59ca8923d9e779ed5e59c28ce3970bf9171129c96e6a8"
   }
  }
 },
 "nbformat": 4,
 "nbformat_minor": 2
}
